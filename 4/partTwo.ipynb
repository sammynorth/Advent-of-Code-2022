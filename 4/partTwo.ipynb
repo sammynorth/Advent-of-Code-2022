{
 "cells": [
  {
   "cell_type": "code",
   "execution_count": 3,
   "metadata": {},
   "outputs": [],
   "source": [
    "import numpy as np"
   ]
  },
  {
   "cell_type": "code",
   "execution_count": 6,
   "metadata": {},
   "outputs": [],
   "source": [
    "with open('input.txt') as f:\n",
    "    lines = f.readlines()\n",
    "    runningTotal = 0\n",
    "    for line in lines:\n",
    "        line = line.strip()\n",
    "        elfOne = line.split(',')[0]\n",
    "        elfOneRange = set(np.arange(int(elfOne.split('-')[0]),int(elfOne.split('-')[1])+1))\n",
    "        elfTwo = line.split(',')[1]\n",
    "        elfTwoRange = set(np.arange(int(elfTwo.split('-')[0]),int(elfTwo.split('-')[1])+1))\n",
    "        if(len(elfOneRange.intersection(elfTwoRange)) != 0):\n",
    "            runningTotal+=1\n",
    "        \n",
    "                "
   ]
  },
  {
   "cell_type": "code",
   "execution_count": 7,
   "metadata": {},
   "outputs": [
    {
     "name": "stdout",
     "output_type": "stream",
     "text": [
      "Total: 883\n"
     ]
    }
   ],
   "source": [
    "print(f'Total: {runningTotal}')"
   ]
  }
 ],
 "metadata": {
  "kernelspec": {
   "display_name": "Python 3.7.9 64-bit",
   "language": "python",
   "name": "python3"
  },
  "language_info": {
   "codemirror_mode": {
    "name": "ipython",
    "version": 3
   },
   "file_extension": ".py",
   "mimetype": "text/x-python",
   "name": "python",
   "nbconvert_exporter": "python",
   "pygments_lexer": "ipython3",
   "version": "3.7.9"
  },
  "orig_nbformat": 4,
  "vscode": {
   "interpreter": {
    "hash": "26866211f7166454f552c4aea6fe8083f6eb083275055579cfe0f141bd3a1362"
   }
  }
 },
 "nbformat": 4,
 "nbformat_minor": 2
}
