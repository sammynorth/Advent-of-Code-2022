{
 "cells": [
  {
   "cell_type": "code",
   "execution_count": 9,
   "metadata": {},
   "outputs": [],
   "source": [
    "with open('input.txt') as f:\n",
    "    lines = f.readlines()\n",
    "    totalScore = 0\n",
    "    for line in lines:\n",
    "        line = line.replace('A', '1')\n",
    "        line = line.replace('X', '1')\n",
    "        line = line.replace('B', '2')\n",
    "        line = line.replace('Y', '2')\n",
    "        line = line.replace('C', '3')\n",
    "        line = line.replace('Z', '3')\n",
    "        elfMove = int(line.split(' ')[0])\n",
    "        myMove = int(line.split(' ')[1])\n",
    "        score = myMove\n",
    "        if(myMove == 1 and elfMove == 3):\n",
    "            score+=6\n",
    "        elif(myMove == 3 and elfMove == 1):\n",
    "            score+=0\n",
    "        elif(myMove > elfMove):\n",
    "            score+=6\n",
    "        elif(myMove == elfMove):\n",
    "            score+=3\n",
    "        totalScore+=score \n",
    "\n",
    "            "
   ]
  },
  {
   "cell_type": "code",
   "execution_count": 10,
   "metadata": {},
   "outputs": [
    {
     "name": "stdout",
     "output_type": "stream",
     "text": [
      "Total Score: 10941\n"
     ]
    }
   ],
   "source": [
    "print(f'Total Score: {totalScore}')"
   ]
  }
 ],
 "metadata": {
  "kernelspec": {
   "display_name": "Python 3.7.9 64-bit",
   "language": "python",
   "name": "python3"
  },
  "language_info": {
   "codemirror_mode": {
    "name": "ipython",
    "version": 3
   },
   "file_extension": ".py",
   "mimetype": "text/x-python",
   "name": "python",
   "nbconvert_exporter": "python",
   "pygments_lexer": "ipython3",
   "version": "3.7.9"
  },
  "orig_nbformat": 4,
  "vscode": {
   "interpreter": {
    "hash": "26866211f7166454f552c4aea6fe8083f6eb083275055579cfe0f141bd3a1362"
   }
  }
 },
 "nbformat": 4,
 "nbformat_minor": 2
}
