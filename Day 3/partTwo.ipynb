{
 "cells": [
  {
   "cell_type": "code",
   "execution_count": 3,
   "metadata": {},
   "outputs": [],
   "source": [
    "import numpy as np"
   ]
  },
  {
   "cell_type": "code",
   "execution_count": 19,
   "metadata": {},
   "outputs": [],
   "source": [
    "with open('input.txt') as f:\n",
    "    lines = f.readlines()\n",
    "    runningTotal = 0\n",
    "    for i in np.arange(2,len(lines),3):\n",
    "        a = [x for x in lines[i-2].strip()]\n",
    "        b = [x for x in lines[i-1].strip()]\n",
    "        c = [x for x in lines[i].strip()]\n",
    "        similar = []\n",
    "        for x in a:\n",
    "            if(x in b and x in c and x not in similar):\n",
    "                if(x.isupper()):\n",
    "                    runningTotal+=(ord(x)-38)\n",
    "                else:\n",
    "                    runningTotal+=(ord(x)-96)\n",
    "                similar.append(x)  "
   ]
  },
  {
   "cell_type": "code",
   "execution_count": 20,
   "metadata": {},
   "outputs": [
    {
     "name": "stdout",
     "output_type": "stream",
     "text": [
      "Total: 2668\n"
     ]
    }
   ],
   "source": [
    "print(f'Total: {runningTotal}')"
   ]
  }
 ],
 "metadata": {
  "kernelspec": {
   "display_name": "Python 3.7.9 64-bit",
   "language": "python",
   "name": "python3"
  },
  "language_info": {
   "codemirror_mode": {
    "name": "ipython",
    "version": 3
   },
   "file_extension": ".py",
   "mimetype": "text/x-python",
   "name": "python",
   "nbconvert_exporter": "python",
   "pygments_lexer": "ipython3",
   "version": "3.7.9"
  },
  "orig_nbformat": 4,
  "vscode": {
   "interpreter": {
    "hash": "26866211f7166454f552c4aea6fe8083f6eb083275055579cfe0f141bd3a1362"
   }
  }
 },
 "nbformat": 4,
 "nbformat_minor": 2
}
