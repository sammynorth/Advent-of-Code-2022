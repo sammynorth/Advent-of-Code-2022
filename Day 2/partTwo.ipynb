{
 "cells": [
  {
   "cell_type": "code",
   "execution_count": 44,
   "metadata": {},
   "outputs": [],
   "source": [
    "def getShapeWin(elfMove):\n",
    "    move = 0\n",
    "    if(elfMove == 1):\n",
    "        move = 2\n",
    "    elif(elfMove == 2):\n",
    "        move = 3\n",
    "    elif(elfMove == 3):\n",
    "        move = 1\n",
    "    return(int(move))\n",
    "\n",
    "def getShapeLoss(elfMove):\n",
    "    move = 0\n",
    "    if(elfMove == 1):\n",
    "        move = 3\n",
    "    elif(elfMove == 2):\n",
    "        move = 1\n",
    "    elif(elfMove == 3):\n",
    "        move = 2\n",
    "    return(int(move))"
   ]
  },
  {
   "cell_type": "code",
   "execution_count": 45,
   "metadata": {},
   "outputs": [],
   "source": [
    "with open('input.txt') as f:\n",
    "    elves = []\n",
    "    lines = f.readlines()\n",
    "    totalScore = 0\n",
    "    for line in lines:\n",
    "        line = line.strip()\n",
    "        line = line.replace('A', '1')\n",
    "        line = line.replace('B', '2')\n",
    "        line = line.replace('C', '3')\n",
    "        \n",
    "        elfMove = int(line.split(' ')[0])\n",
    "        resultNeeded = line.split(' ')[1]\n",
    "        #print(resultNeeded)\n",
    "        if(resultNeeded == 'X'):\n",
    "            score = getShapeLoss(elfMove)\n",
    "        elif(resultNeeded == 'Y'):\n",
    "            score = elfMove + 3\n",
    "            #print(elfMove) \n",
    "        elif(resultNeeded == 'Z'):\n",
    "            score = getShapeWin(elfMove) + 6\n",
    "        #print(score)\n",
    "        totalScore+=score "
   ]
  },
  {
   "cell_type": "code",
   "execution_count": 46,
   "metadata": {},
   "outputs": [
    {
     "name": "stdout",
     "output_type": "stream",
     "text": [
      "Total Score: 13071\n"
     ]
    }
   ],
   "source": [
    "print(f'Total Score: {totalScore}')"
   ]
  }
 ],
 "metadata": {
  "kernelspec": {
   "display_name": "Python 3.7.9 64-bit",
   "language": "python",
   "name": "python3"
  },
  "language_info": {
   "codemirror_mode": {
    "name": "ipython",
    "version": 3
   },
   "file_extension": ".py",
   "mimetype": "text/x-python",
   "name": "python",
   "nbconvert_exporter": "python",
   "pygments_lexer": "ipython3",
   "version": "3.7.9"
  },
  "orig_nbformat": 4,
  "vscode": {
   "interpreter": {
    "hash": "26866211f7166454f552c4aea6fe8083f6eb083275055579cfe0f141bd3a1362"
   }
  }
 },
 "nbformat": 4,
 "nbformat_minor": 2
}
